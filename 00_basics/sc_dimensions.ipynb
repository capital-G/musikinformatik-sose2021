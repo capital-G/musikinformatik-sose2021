{
 "cells": [
  {
   "cell_type": "markdown",
   "id": "eligible-assault",
   "metadata": {},
   "source": [
    "# Dimensionality in SuperCollider\n",
    "\n",
    "After we took a look at the math perspective of vectors and matrices we now want to shift and expand our view on the topic by taking a look at how to create and interact with vectors and matrices in SuperCollider."
   ]
  },
  {
   "cell_type": "markdown",
   "id": "second-maldives",
   "metadata": {},
   "source": [
    "## From scalar to vector to matrix\n",
    "\n",
    "### Scalar\n",
    "\n",
    "As we discussed a scalar is a single numeric value.\n",
    "This can either be a natural number or a real number."
   ]
  },
  {
   "cell_type": "code",
   "execution_count": 1,
   "id": "isolated-sponsorship",
   "metadata": {},
   "outputs": [
    {
     "name": "stdout",
     "output_type": "stream",
     "text": [
      "-> 5"
     ]
    }
   ],
   "source": [
    "5"
   ]
  },
  {
   "cell_type": "code",
   "execution_count": 2,
   "id": "guilty-formula",
   "metadata": {},
   "outputs": [
    {
     "name": "stdout",
     "output_type": "stream",
     "text": [
      "-> 1.5"
     ]
    }
   ],
   "source": [
    "1.5"
   ]
  },
  {
   "cell_type": "code",
   "execution_count": 3,
   "id": "similar-religious",
   "metadata": {},
   "outputs": [
    {
     "name": "stdout",
     "output_type": "stream",
     "text": [
      "-> 1.4142135623731"
     ]
    }
   ],
   "source": [
    "sqrt(2.0)"
   ]
  },
  {
   "cell_type": "markdown",
   "id": "native-mathematics",
   "metadata": {},
   "source": [
    "When working with rational numbers we must take into accont that a computer is [bound to a limited representation of our number](https://en.wikipedia.org/wiki/Single-precision_floating-point_format) which leads sometimes to unexpected results."
   ]
  },
  {
   "cell_type": "code",
   "execution_count": 4,
   "id": "entire-circle",
   "metadata": {},
   "outputs": [
    {
     "name": "stdout",
     "output_type": "stream",
     "text": [
      "6.0\n",
      "7.0\n",
      "-> 7.0"
     ]
    }
   ],
   "source": [
    "(0.7/0.1).floor.postln;\n",
    "7.0.floor.postln;"
   ]
  },
  {
   "cell_type": "markdown",
   "id": "understood-password",
   "metadata": {},
   "source": [
    "Althogh $\\left \\lfloor \\frac{0.7}{0.1} \\right \\rfloor = \\lfloor 7 \\rfloor = 7$, where $\\lfloor x \\rfloor$ is the [flooring](https://en.wikipedia.org/wiki/Floor_and_ceiling_functions) operator on the variable $x$, SuperCollider decides to return a 6 instead which is caused by the limited floating point precission."
   ]
  },
  {
   "cell_type": "markdown",
   "id": "worse-exercise",
   "metadata": {},
   "source": [
    "### Vector\n",
    "\n",
    "We can store multiple scalar values into an [Array](https://doc.sccode.org/Classes/Array.html).\n",
    "Have in mind that [indexing of arrays start at 0 in most programming languages](https://www.cs.utexas.edu/users/EWD/transcriptions/EWD08xx/EWD831.html) where in math the convention is to start indexing from 1."
   ]
  },
  {
   "cell_type": "code",
   "execution_count": 5,
   "id": "found-trace",
   "metadata": {},
   "outputs": [
    {
     "name": "stdout",
     "output_type": "stream",
     "text": [
      "-> [ 2, 3 ]"
     ]
    }
   ],
   "source": [
    "v = [2, 3];\n",
    "v;"
   ]
  },
  {
   "cell_type": "markdown",
   "id": "prerequisite-hebrew",
   "metadata": {},
   "source": [
    "We can scale each element of our array with a scalar by multiplying a scalar with our array `v`."
   ]
  },
  {
   "cell_type": "code",
   "execution_count": 6,
   "id": "classified-indiana",
   "metadata": {},
   "outputs": [
    {
     "name": "stdout",
     "output_type": "stream",
     "text": [
      "-> [ 8, 12 ]"
     ]
    }
   ],
   "source": [
    "v*4"
   ]
  },
  {
   "cell_type": "code",
   "execution_count": 7,
   "id": "purple-nerve",
   "metadata": {},
   "outputs": [
    {
     "name": "stdout",
     "output_type": "stream",
     "text": [
      "-> [ 0.5, 0.75 ]"
     ]
    }
   ],
   "source": [
    "v/4"
   ]
  },
  {
   "cell_type": "markdown",
   "id": "numerous-genetics",
   "metadata": {},
   "source": [
    "We can also multiply the array with another array."
   ]
  },
  {
   "cell_type": "code",
   "execution_count": 8,
   "id": "incomplete-provision",
   "metadata": {},
   "outputs": [
    {
     "name": "stdout",
     "output_type": "stream",
     "text": [
      "-> [ 8, 27 ]"
     ]
    }
   ],
   "source": [
    "[2,3]*[4,9]"
   ]
  },
  {
   "cell_type": "markdown",
   "id": "nominated-violation",
   "metadata": {},
   "source": [
    "Lets see what happens when we multiply non-matching dimensions of our arrays."
   ]
  },
  {
   "cell_type": "code",
   "execution_count": 9,
   "id": "electric-volunteer",
   "metadata": {},
   "outputs": [
    {
     "name": "stdout",
     "output_type": "stream",
     "text": [
      "-> [ 8, 15, 12 ]"
     ]
    }
   ],
   "source": [
    "[2,3]*[4,5,6]"
   ]
  },
  {
   "cell_type": "markdown",
   "id": "excited-california",
   "metadata": {},
   "source": [
    "A bit unexpecting that we do not receive an error - SuperCollider expands arrays in such operations to the longest array and cycles through the shorter ones. This allows for very concise code, but you have to take care about the input arrays yourself.\n",
    "Lets see how this cascades when we want to multiply 3 arrays with different size."
   ]
  },
  {
   "cell_type": "code",
   "execution_count": 10,
   "id": "tender-footwear",
   "metadata": {},
   "outputs": [
    {
     "name": "stdout",
     "output_type": "stream",
     "text": [
      "-> [ 56, 120, 108, 80 ]"
     ]
    }
   ],
   "source": [
    "[2, 3] * [4, 5, 6] * [7, 8, 9, 10]"
   ]
  },
  {
   "cell_type": "markdown",
   "id": "senior-purse",
   "metadata": {},
   "source": [
    "The results are calculated as following:\n",
    "\n",
    "$$\n",
    "\\begin{aligned}\n",
    "2 \\cdot 4 \\cdot 7 &= 7\\\\\n",
    "3 \\cdot 5 \\cdot 8 &= 120\\\\\n",
    "2 \\cdot 6 \\cdot 9 &= 108\\\\\n",
    "3 \\cdot 4 \\cdot 10 &= 80\n",
    "\\end{aligned}\n",
    "$$"
   ]
  },
  {
   "cell_type": "markdown",
   "id": "diagnostic-overall",
   "metadata": {},
   "source": [
    "### Matrix\n",
    "\n",
    "Now we can also take a look at how a matrix is represented in SuperCollider."
   ]
  },
  {
   "cell_type": "code",
   "execution_count": 11,
   "id": "intellectual-assurance",
   "metadata": {},
   "outputs": [
    {
     "name": "stdout",
     "output_type": "stream",
     "text": [
      "-> [ [ 2, 3, 4 ], [ 4, 5, 6 ] ]"
     ]
    }
   ],
   "source": [
    "n = [\n",
    "    [2, 3, 4],\n",
    "    [4, 5, 6],\n",
    "]"
   ]
  },
  {
   "cell_type": "markdown",
   "id": "desirable-platform",
   "metadata": {},
   "source": [
    "So it is basically just an array of arrays - but lets take a closer look at this as it is important to get the indices and the dimensions properly when working with matrices.\n",
    "\n",
    "Lets say we want to represent a $3 \\times 2$ matrix \n",
    "$$\n",
    "\\text{M} =\n",
    "\\begin{pmatrix}\n",
    "   1 & 2\\\\\n",
    "   3 & 4\\\\\n",
    "   5 & 6\n",
    "\\end{pmatrix}\n",
    "$$"
   ]
  },
  {
   "cell_type": "code",
   "execution_count": 12,
   "id": "cooked-beijing",
   "metadata": {},
   "outputs": [
    {
     "name": "stdout",
     "output_type": "stream",
     "text": [
      "[ [ 1, 2 ], [ 3, 4 ], [ 5, 6 ] ]\n",
      "-> 2"
     ]
    }
   ],
   "source": [
    "m = [\n",
    "    [1, 2],\n",
    "    [3, 4],\n",
    "    [5, 6],\n",
    "];\n",
    "m.postln;\n",
    "m[0][1];"
   ]
  },
  {
   "cell_type": "markdown",
   "id": "determined-metadata",
   "metadata": {},
   "source": [
    "We see that the first dimension in a SuperCollider array are the rows, the 2nd dimension (the content of the arrays) are the columns - this fits nicely with our mathematical notation.\n",
    "\n",
    "So lets try common operations such as the scaling of a matrix with a scalar."
   ]
  },
  {
   "cell_type": "code",
   "execution_count": 13,
   "id": "parallel-shanghai",
   "metadata": {},
   "outputs": [
    {
     "name": "stdout",
     "output_type": "stream",
     "text": [
      "-> [ [ 2, 4 ], [ 6, 8 ], [ 10, 12 ] ]"
     ]
    }
   ],
   "source": [
    "m*2;"
   ]
  },
  {
   "cell_type": "markdown",
   "id": "sexual-gasoline",
   "metadata": {},
   "source": [
    "The multiplication of a matrix with a scalar."
   ]
  },
  {
   "cell_type": "code",
   "execution_count": 14,
   "id": "rubber-soviet",
   "metadata": {},
   "outputs": [
    {
     "name": "stdout",
     "output_type": "stream",
     "text": [
      "-> [ [ 2, 3 ], [ 4, 5 ], [ 6, 7 ] ]"
     ]
    }
   ],
   "source": [
    "m + 1"
   ]
  },
  {
   "cell_type": "markdown",
   "id": "valuable-animation",
   "metadata": {},
   "source": [
    "The multiplication of our a matrices with vectors."
   ]
  },
  {
   "cell_type": "code",
   "execution_count": 15,
   "id": "serial-miniature",
   "metadata": {},
   "outputs": [
    {
     "name": "stdout",
     "output_type": "stream",
     "text": [
      "-> [ [ 1, 2 ], [ 0, 0 ], [ 10, 12 ] ]"
     ]
    }
   ],
   "source": [
    "m * [1, 0, 2]"
   ]
  },
  {
   "cell_type": "code",
   "execution_count": 16,
   "id": "permanent-atlas",
   "metadata": {},
   "outputs": [
    {
     "name": "stdout",
     "output_type": "stream",
     "text": [
      "-> [ [ 1, 4 ], [ 9, 16 ], [ 25, 36 ] ]"
     ]
    }
   ],
   "source": [
    "m*m"
   ]
  },
  {
   "cell_type": "code",
   "execution_count": 17,
   "id": "unique-iraqi",
   "metadata": {},
   "outputs": [
    {
     "name": "stdout",
     "output_type": "stream",
     "text": [
      "-> [ [ 2, 6, 4 ], [ 12, 20, 18 ], [ 10, 18, 20 ] ]"
     ]
    }
   ],
   "source": [
    "m*n"
   ]
  },
  {
   "cell_type": "markdown",
   "id": "recreational-patio",
   "metadata": {},
   "source": [
    "Although the dimensions are matching with our mathematical definition the results do not match up."
   ]
  },
  {
   "cell_type": "markdown",
   "id": "behavioral-original",
   "metadata": {},
   "source": [
    "### Sets\n",
    "\n",
    "The way to declare a set in SuperCollider is straightforward."
   ]
  },
  {
   "cell_type": "code",
   "execution_count": 18,
   "id": "black-literacy",
   "metadata": {},
   "outputs": [
    {
     "name": "stdout",
     "output_type": "stream",
     "text": [
      "-> Set[ 3, 2, 1 ]"
     ]
    }
   ],
   "source": [
    "a = Set[1, 2, 3, 1];\n",
    "a;"
   ]
  },
  {
   "cell_type": "markdown",
   "id": "empty-rebate",
   "metadata": {},
   "source": [
    "Notice that although we declared duplicates in the set this duplication is ignored by SuperCollider as a set can only have unique elements.\n",
    "We can also quickly take a look at the cardinality of sets."
   ]
  },
  {
   "cell_type": "code",
   "execution_count": 19,
   "id": "innovative-tomorrow",
   "metadata": {},
   "outputs": [
    {
     "name": "stdout",
     "output_type": "stream",
     "text": [
      "-> 3"
     ]
    }
   ],
   "source": [
    "a.size;"
   ]
  },
  {
   "cell_type": "markdown",
   "id": "simplified-kingdom",
   "metadata": {},
   "source": [
    "Note also that due the circumstance that a set has no order we can also not access the *i*-th element of a set."
   ]
  },
  {
   "cell_type": "code",
   "execution_count": 20,
   "id": "seeing-restoration",
   "metadata": {},
   "outputs": [
    {
     "name": "stdout",
     "output_type": "stream",
     "text": [
      "ERROR: Message 'at' not understood.\n",
      "RECEIVER:\n",
      "Instance of Set {    (0x7ff1a052d478, gc=D8, fmt=00, flg=00, set=02)\n",
      "  instance variables [2]\n",
      "    array : instance of Array (0x7ff210022858, size=8, set=3)\n",
      "    size : Integer 3\n",
      "}\n",
      "ARGS:\n",
      "   Integer 0\n",
      "\n",
      "PROTECTED CALL STACK:\n",
      "\tMeta_MethodError:new\t0x7ff1e02c5100\n",
      "\t\targ this = DoesNotUnderstandError\n",
      "\t\targ what = nil\n",
      "\t\targ receiver = Set[ 3, 2, 1 ]\n",
      "\tMeta_DoesNotUnderstandError:new\t0x7ff1e02c70c0\n",
      "\t\targ this = DoesNotUnderstandError\n",
      "\t\targ receiver = Set[ 3, 2, 1 ]\n",
      "\t\targ selector = at\n",
      "\t\targ args = [ 0 ]\n",
      "\tObject:doesNotUnderstand\t0x7ff1f00ba5c0\n",
      "\t\targ this = Set[ 3, 2, 1 ]\n",
      "\t\targ selector = at\n",
      "\t\targ args = nil\n",
      "\ta FunctionDef\t0x7ff1a0329fd8\n",
      "\t\tsourceCode = \"{ var result; \\\"**** JUPYTER ****\\\".postln; result = {a[0]}.value(); postf(\\\"-> %\n",
      "\\\", result); \\\"\\\".postln;}\"\n"
     ]
    }
   ],
   "source": [
    "a[0]"
   ]
  },
  {
   "cell_type": "markdown",
   "id": "respected-gasoline",
   "metadata": {},
   "source": [
    "## Working with matrices\n",
    "\n",
    "Lets start by implementing a function which will multiply two matrices which also checks if this is a valid operation."
   ]
  },
  {
   "cell_type": "code",
   "execution_count": 21,
   "id": "purple-syracuse",
   "metadata": {},
   "outputs": [
    {
     "name": "stdout",
     "output_type": "stream",
     "text": [
      "-> a Function"
     ]
    }
   ],
   "source": [
    "~matrixMul = { |a, b|\n",
    "    if(a[0].size != b.size) { Error(\"matrix dimensions do not match\").throw };\n",
    "    if(a.every({|i| a[0].size == i.size}).not) {Error(\"input A has non identical dimensions\").throw};\n",
    "    if(b.every({|i| b[0].size == i.size}).not) {Error(\"input B has non identical dimensions\").throw};\n",
    "    a.collect { |d| (b * d).sum }\n",
    "};"
   ]
  },
  {
   "cell_type": "markdown",
   "id": "a2fdb5f5-9a5c-4cbd-b55f-9d3607b226e3",
   "metadata": {},
   "source": [
    "Lets take a look at the formula \n",
    "\n",
    "$$\n",
    "\\underbrace{\\begin{pmatrix}\n",
    "    1 & 1 & 1 \\\\\n",
    "    1 & 1 & 3 \\\\\n",
    "\\end{pmatrix}}_{A}\n",
    "\\underbrace{\\begin{pmatrix}\n",
    "    2\\\\\n",
    "    1\\\\\n",
    "    1\\\\\n",
    "\\end{pmatrix}}_{B}\n",
    "\\overset{!}{=}\n",
    "\\underbrace{\\begin{pmatrix}\n",
    "    4 \\\\\n",
    "    6 \n",
    "\\end{pmatrix}}_{C}\n",
    "$$\n",
    "\n",
    "$A$ is a $2 \\times 3$ matrix and $B$ a $3 \\times 1$ matrix, so the resulting matrix $C$ must be a $2 \\times 1$ matrix.\n",
    "The values can easily be verified if we take a look at the definition of matrix multiplication"
   ]
  },
  {
   "cell_type": "code",
   "execution_count": 22,
   "id": "atomic-criticism",
   "metadata": {},
   "outputs": [
    {
     "name": "stdout",
     "output_type": "stream",
     "text": [
      "-> [ [ 4 ], [ 6 ] ]"
     ]
    }
   ],
   "source": [
    "~matrixMul.(\n",
    "    [[1, 1, 1], [1,1,3]],\n",
    "    [[2],[1],[1]]\n",
    ")"
   ]
  },
  {
   "cell_type": "markdown",
   "id": "higher-michigan",
   "metadata": {},
   "source": [
    "We see that our function works as intended - although for a proper validation of this we cannot work with examples but need to examine the code.\n",
    "\n",
    "We now want to use this function to calculate downmixes in SuperCollider.\n",
    "To do this we first need to start the server."
   ]
  },
  {
   "cell_type": "code",
   "execution_count": 23,
   "id": "potential-therapist",
   "metadata": {},
   "outputs": [
    {
     "name": "stdout",
     "output_type": "stream",
     "text": [
      "-> localhost"
     ]
    }
   ],
   "source": [
    "s.boot();"
   ]
  },
  {
   "cell_type": "markdown",
   "id": "0e449612-8fa3-4378-9dc9-8aac94c65690",
   "metadata": {},
   "source": [
    "Lets formalise what we want to do before we start coding it.\n",
    "\n",
    "$$\n",
    "\\begin{aligned}\n",
    "A &= \\begin{pmatrix}\n",
    "    X_{1, 1} & X_{1, 2} & X_{1,3} & X_{1, 4} \\\\\n",
    "    X_{2, 1} & X_{2, 2} & X_{2, 3} & X_{2, 4}\n",
    "\\end{pmatrix}\n",
    "\\text{where } \\{ X_{i, j} \\sim \\mathcal{U}(0, 1) | i \\in \\{1,\\dots,2\\}, j \\in \\{1, \\dots 4 \\}  \\}\\\\\n",
    "B &= \\begin{pmatrix}\n",
    "   \\text{SinOsc}_{400} \\\\\n",
    "   \\text{Saw}_{45} \\\\\n",
    "   \\text{Pulse}_{8000} \\\\\n",
    "   \\text{Blip}_{3} \\\\\n",
    "\\end{pmatrix} \\\\\n",
    "\\end{aligned}\n",
    "$$\n",
    "\n",
    "where $\\mathcal{U}$ is the [Continuous uniform distribution](https://en.wikipedia.org/wiki/Continuous_uniform_distribution).\n",
    "\n",
    "$A$ is a $2 \\times 4$ matrix with random values between $0$ and $1$ and our signals are stored in matrix $B$ as a $4 \\times 1$ array of Ugens.\n",
    "So $C = A B$ results in a $2 \\times 1$ matrix - so a mixed down stereo signal.\n",
    "\n",
    "If we would like to have a mix with $m$ chanels, we would need to modify $A$ to a $m \\times 4$ matrix."
   ]
  },
  {
   "cell_type": "code",
   "execution_count": 24,
   "id": "allied-means",
   "metadata": {},
   "outputs": [
    {
     "name": "stdout",
     "output_type": "stream",
     "text": [
      "Mixing Matrix A [ [ 0.38767051696777, 0.12795674800873, 0.51681995391846, 0.76382398605347 ], [ 0.45636820793152, 0.66525650024414, 0.13446116447449, 0.029584407806396 ] ]\n",
      "A shape [ 2, 4 ]\n",
      "B shape [ 4 ]\n",
      "Mixdown shape: [ 2 ]\n",
      "-> Ndef('x')"
     ]
    }
   ],
   "source": [
    "Ndef(\\x, {\n",
    "    var a, b, mix, selected, gater;\n",
    "\n",
    "    gater = {\n",
    "        Trig1.kr(\n",
    "            in: PulseDivider.kr(\n",
    "                trig: Impulse.kr(8), \n",
    "                div: IRand(4, 9),\n",
    "                start: IRand(0, 8)),\n",
    "            dur: 1/8\n",
    "        )\n",
    "    };\n",
    "    \n",
    "    a = { [1.0, 1.0, 1.0, 1.0].rand } ! 2;\n",
    "    b = [\n",
    "        SinOsc.ar(freq: 400) * gater.value,\n",
    "        Saw.ar(freq: 45) * gater.value,\n",
    "        Pulse.ar(freq: 8000) * gater.value,\n",
    "        Blip.ar(freq: 3, numharm: 140) * gater.value,\n",
    "    ];\n",
    "    \"Mixing Matrix A %\".format(a).postln;\n",
    "    \"A shape %\".format(a.shape).postln;\n",
    "    \"B shape %\".format(b.shape).postln;\n",
    "\n",
    "    // calculate a mixdown\n",
    "    mix = ~matrixMul.(a, b);\n",
    "    \"Mixdown shape: %\".format(mix.shape).postln;\n",
    "    mix*0.2;\n",
    "}).play;"
   ]
  },
  {
   "cell_type": "markdown",
   "id": "missing-makeup",
   "metadata": {},
   "source": [
    "In Jupyter Notebook, we stop the audio playback of the SuperCollider server by executing a single dot."
   ]
  },
  {
   "cell_type": "code",
   "execution_count": 25,
   "id": "aboriginal-roots",
   "metadata": {
    "tags": []
   },
   "outputs": [
    {
     "name": "stdout",
     "output_type": "stream",
     "text": [
      "-> CmdPeriod"
     ]
    }
   ],
   "source": [
    "."
   ]
  },
  {
   "cell_type": "markdown",
   "id": "429b1dc2-2485-4474-9787-865c8d9a5830",
   "metadata": {},
   "source": [
    "We can spin this example further by adding additional row vectors to our Synth matrix *B*, so\n",
    "\n",
    "$$\n",
    "\\begin{aligned}\n",
    "A &= \\begin{pmatrix}\n",
    "    X_{1, 1} & X_{1, 2} & X_{1,3} & X_{1, 4} \\\\\n",
    "    X_{2, 1} & X_{2, 2} & X_{2, 3} & X_{2, 4}\n",
    "\\end{pmatrix}\n",
    "\\text{where } \\{ X_{i, j} \\sim \\mathcal{U}(0, 1) | i \\in \\{1,\\dots,2\\}, j \\in \\{1, \\dots 4 \\}  \\}\\\\\n",
    "B &= \\begin{pmatrix}\n",
    "   \\text{SinOsc}_{440} & \\text{SinOsc}_{226} & \\text{SinOsc}_{782} \\\\\n",
    "   \\text{Saw}_{45} & \\text{Saw}_{200} & \\text{Saw}_{420} \\\\\n",
    "   \\text{Pulse}_{300} & \\text{Pulse}_{200} & \\text{Pulse}_{100} \\\\\n",
    "   \\text{Blip}_{3} & \\text{Blip}_{5} & \\text{Blip}_{2}  \\\\\n",
    "\\end{pmatrix} \\\\\n",
    "\\end{aligned}\n",
    "$$\n",
    "\n",
    "The problem is that now the operation $AB$ returns a $2 \\times 3$ matrix which do not fit most representations of speakers.\n",
    "\n",
    "But we can solve this problem by multipling a $3 \\times 1$ matrix $D$ with uniform distributed values as in A so we obtain a $2\\times1$ matrix $C$ by calculating $C = (AB)D$.\n",
    "\n",
    "$$\n",
    "D = \\begin{pmatrix}\n",
    "    X_{1, 1} \\\\\n",
    "    X_{2, 1} \\\\\n",
    "    X_{3, 1}\n",
    "\\end{pmatrix}\n",
    "\\text{where } \\{ X_{i, 1} \\sim \\mathcal{U}(0, 1) | i \\in \\{1,\\dots,3\\} \\}  \\}\n",
    "$$\n",
    "\n",
    "We see that working with matrices really comes in handy once we start to think in matrices."
   ]
  },
  {
   "cell_type": "code",
   "execution_count": 26,
   "id": "4fd1f27c-3798-4bcb-9f84-4763d974f2a0",
   "metadata": {},
   "outputs": [
    {
     "name": "stdout",
     "output_type": "stream",
     "text": [
      "A shape [ 2, 4 ]\n",
      "B shape [ 4, 3 ]\n",
      "D shape [ 3, 1 ]\n",
      "Mixdown shape: [ 2, 1 ]\n",
      "-> Ndef('x')"
     ]
    }
   ],
   "source": [
    "Ndef(\\x, {\n",
    "    var a, b, mix, selected, gater;\n",
    "\n",
    "    gater = {\n",
    "        Trig1.kr(\n",
    "            in: PulseDivider.kr(\n",
    "                trig: Impulse.kr(8), \n",
    "                div: IRand(4, 9),\n",
    "                start: IRand(0, 8)),\n",
    "            dur: 1/8\n",
    "        )\n",
    "    };\n",
    "    \n",
    "    a = { [1.0, 1.0, 1.0, 1.0].rand } ! 2;\n",
    "    b = [\n",
    "        SinOsc.ar(freq: [440, 226, 782]) * gater.value,\n",
    "        Saw.ar(freq: [45, 200, 420]) * gater.value,\n",
    "        Pulse.ar(freq: [300, 200, 100]) * gater.value,\n",
    "        Blip.ar(freq: [3, 5, 2], numharm: 140) * gater.value,\n",
    "    ];\n",
    "    d = { [1.0].rand } ! 3;\n",
    "    \"A shape %\".format(a.shape).postln;\n",
    "    \"B shape %\".format(b.shape).postln;\n",
    "    \"D shape %\".format(d.shape).postln;\n",
    "\n",
    "    // calculate a mixdown\n",
    "    mix = ~matrixMul.(~matrixMul.(a, b), d);\n",
    "    \"Mixdown shape: %\".format(mix.shape).postln;\n",
    "    mix*0.2;\n",
    "}).play;"
   ]
  },
  {
   "cell_type": "code",
   "execution_count": 27,
   "id": "bf5e2f04-abc4-47cc-b4a6-f372aa318171",
   "metadata": {},
   "outputs": [
    {
     "name": "stdout",
     "output_type": "stream",
     "text": [
      "-> CmdPeriod"
     ]
    }
   ],
   "source": [
    "."
   ]
  },
  {
   "cell_type": "markdown",
   "id": "56909aab-ac51-46bc-ac13-382a3241c263",
   "metadata": {},
   "source": [
    "Lets develop this a bit further.\n",
    "\n",
    "Lets define a $10\\times5$ signal matrix $S$ - we want to use the cursor to distribute the matrix across the screen and use the cursor to smoothly transit between each signal of our matrix.\n",
    "\n",
    "As we want to result in a $2\\times1$ stereo mix $C$ we know thanks to the dimension rules of matrix multiplicaton that we need\n",
    "\n",
    "$$\n",
    "C = \\underbrace{\\underbrace{(\\underbrace{A}_{2 \\times 10} \\underbrace{S}_{10 \\times 5})}_{2 \\times 5} \\underbrace{B}_{5 \\times 1}}_{2 \\times 1}\n",
    "$$\n",
    "\n",
    "The $2 \\times 10$ matrix controls the volume of the rows, where the $5 \\times 1$ matrix controls the volume of the columns.\n",
    "\n",
    "As we gradualy want to have a transition between the signals that are close to each other, we have to think about a way how to determine the volume of each signal based on the position of the cursor.\n",
    "The problem is that we cannot solve this with a purely linear function as we need an increasing slope and an decreasing slope (if we approach a point it should go louder but if we pass the point it should go quiter again).\n",
    "But we can combine two linear functions to mimic this behaviour by combining an increasing and a decreasing linear function and taking the lowest value of each while they intersect at the $i$-th fraction with an co-domain value of 1 (so $y=1$).\n",
    "\n",
    "With some basic calculus we can come up with two simple linear functions which have for $f_i$ which have\n",
    "\n",
    "$$\n",
    "\\begin{aligned}\n",
    "    f_{\\text{up}_i}(x) &= ax + (2-i) \\\\\n",
    "    f_{\\text{down}_i}(x) &= -ax + i \\\\\n",
    "    f_{\\text{combined}_i}(x) &= \\max \\left( \\min \\left( f_{\\text{up}_i}(x) , f_{\\text{down}_i} (x) \\right) , 0 \\right)\n",
    "\\end{aligned}\n",
    "$$\n",
    "\n",
    "where $a$ is the number of distinct, even distributed points we want to separate and $i$ is the $i$-th point we want to separate ($i$ starts counting at 1).\n",
    "We combine both functions by taking the lower of both functions, but also add a $\\max$ function to not go below 0.\n",
    "\n",
    "In our case the $x$ of our function is the position of the cursor on the screen.\n",
    "\n",
    "Note that by multiplying a factor to $a$ we could in- or decresase the separation of our signals in the mix."
   ]
  },
  {
   "cell_type": "code",
   "execution_count": 28,
   "id": "e74f9d39-f902-4b65-911f-a25c6e383a27",
   "metadata": {},
   "outputs": [
    {
     "name": "stdout",
     "output_type": "stream",
     "text": [
      "Shape of A: [ 2, 10 ]\n",
      "Shape of S: [ 10, 5 ]\n",
      "Shape of B: [ 5, 1 ]\n",
      "Shape of C: [ 2, 1 ]\n",
      "-> Ndef('x')"
     ]
    }
   ],
   "source": [
    "Ndef(\\x, {\n",
    "    var mix, s, a, b, allRatios, numRatios=10, numSines=5, baseFreq=200, numOutChannels=2;\n",
    "    \n",
    "    // array of numRatios rows, each with numSine sine tones in a series\n",
    "    allRatios = [1.2, 1.25, 1.5, pi/2, 5/4, 7/4, 9/4, 11/4, pi, 13/4][0..numRatios];\n",
    "    s = allRatios.collect { |ratio| \n",
    "        numSines.collect { |i|\n",
    "            var freq = baseFreq * (ratio ** i);\n",
    "            SinOsc.ar(freq: freq) * AmpComp.kr(freq: freq, root: baseFreq)\n",
    "        } * LFNoise2.ar(freq: 70).max(0)\n",
    "    };\n",
    "    \n",
    "    // in SC indices start at 0 so we write i+1 and j+1 here\n",
    "    a = numOutChannels.collect({|i|\n",
    "        numRatios.collect({|j|\n",
    "            // to make it more interesting we offset the i-th channel by i\n",
    "            max(\n",
    "                min(\n",
    "                    numRatios*MouseY.kr+ (2-(j+1+i)),\n",
    "                    (-1)*numRatios*MouseY.kr + (j+1+i),\n",
    "                ),\n",
    "            0)\n",
    "        })\n",
    "    });\n",
    "    b = numSines.collect({|i|\n",
    "        1.collect({\n",
    "            max(\n",
    "                min(\n",
    "                    numSines*MouseX.kr+ (2-(i+1)),\n",
    "                    (-1)*numSines*MouseX.kr + (i+1),\n",
    "                ),\n",
    "            0) \n",
    "        })\n",
    "    });\n",
    "    \n",
    "    mix = ~matrixMul.(~matrixMul.(a, s), b);\n",
    "    \n",
    "    \"Shape of A: %\".format(a.shape).postln;\n",
    "    \"Shape of S: %\".format(s.shape).postln;\n",
    "    \"Shape of B: %\".format(b.shape).postln;\n",
    "    \"Shape of C: %\".format(mix.shape).postln;\n",
    "    \n",
    "    mix*0.3;\n",
    "}).play;"
   ]
  },
  {
   "cell_type": "code",
   "execution_count": 29,
   "id": "1f7bc1a0-92d4-474b-b420-ebbf729dcc97",
   "metadata": {},
   "outputs": [
    {
     "name": "stdout",
     "output_type": "stream",
     "text": [
      "-> CmdPeriod"
     ]
    }
   ],
   "source": [
    "."
   ]
  }
 ],
 "metadata": {
  "kernelspec": {
   "display_name": "SuperCollider",
   "language": "",
   "name": "sc_kernel"
  },
  "language_info": {
   "file_extension": ".scd",
   "mimetype": "text/x-sclang",
   "name": "smalltalk",
   "pygments_lexer": "supercollider"
  }
 },
 "nbformat": 4,
 "nbformat_minor": 5
}
