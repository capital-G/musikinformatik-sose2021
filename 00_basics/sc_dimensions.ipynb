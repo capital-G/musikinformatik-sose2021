{
 "cells": [
  {
   "cell_type": "markdown",
   "id": "atlantic-compilation",
   "metadata": {},
   "source": [
    "# Dimensionality in SuperCollider\n",
    "\n",
    "After we took a look at the math perspective of vectors and matrices we now want to shift and expand our view on the topic by taking a look at how to create and interact with vectors and matrices in SuperCollider."
   ]
  },
  {
   "cell_type": "markdown",
   "id": "southwest-panel",
   "metadata": {},
   "source": [
    "## From scalar to vector to matrix\n",
    "\n",
    "### Scalar\n",
    "\n",
    "As we discussed a scalar is a single numeric value.\n",
    "This can either be a natural number or a real number."
   ]
  },
  {
   "cell_type": "code",
   "execution_count": 1,
   "id": "sporting-pixel",
   "metadata": {},
   "outputs": [
    {
     "name": "stdout",
     "output_type": "stream",
     "text": [
      "-> 5"
     ]
    }
   ],
   "source": [
    "5"
   ]
  },
  {
   "cell_type": "code",
   "execution_count": 2,
   "id": "african-trigger",
   "metadata": {},
   "outputs": [
    {
     "name": "stdout",
     "output_type": "stream",
     "text": [
      "-> 1.5"
     ]
    }
   ],
   "source": [
    "1.5"
   ]
  },
  {
   "cell_type": "code",
   "execution_count": 3,
   "id": "abandoned-artist",
   "metadata": {},
   "outputs": [
    {
     "name": "stdout",
     "output_type": "stream",
     "text": [
      "-> 1.4142135623731"
     ]
    }
   ],
   "source": [
    "sqrt(2.0)"
   ]
  },
  {
   "cell_type": "markdown",
   "id": "differential-appraisal",
   "metadata": {},
   "source": [
    "When working with rational numbers we must take into accont that a computer is [bound to a limited representation of our number](https://en.wikipedia.org/wiki/Single-precision_floating-point_format) which leads sometimes to unexpected results."
   ]
  },
  {
   "cell_type": "code",
   "execution_count": 4,
   "id": "global-benjamin",
   "metadata": {},
   "outputs": [
    {
     "name": "stdout",
     "output_type": "stream",
     "text": [
      "6.0\n",
      "7.0\n",
      "-> 7.0"
     ]
    }
   ],
   "source": [
    "(0.7/0.1).floor.postln;\n",
    "7.0.floor.postln;"
   ]
  },
  {
   "cell_type": "markdown",
   "id": "joined-logic",
   "metadata": {},
   "source": [
    "Althogh $\\left \\lfloor \\frac{0.7}{0.1} \\right \\rfloor = \\lfloor 7 \\rfloor = 7$, where $\\lfloor x \\rfloor$ is the [flooring](https://en.wikipedia.org/wiki/Floor_and_ceiling_functions) operator on the variable $x$, SuperCollider decides to return a 6 instead which is caused by the limited floating point precission."
   ]
  },
  {
   "cell_type": "markdown",
   "id": "aerial-emperor",
   "metadata": {},
   "source": [
    "### Vector\n",
    "\n",
    "We can store multiple scalar values into an [Array](https://doc.sccode.org/Classes/Array.html).\n",
    "Have in mind that [indexing of arrays start at 0 in most programming languages](https://www.cs.utexas.edu/users/EWD/transcriptions/EWD08xx/EWD831.html) where in math the convention is to start indexing from 1."
   ]
  },
  {
   "cell_type": "code",
   "execution_count": 5,
   "id": "convenient-equity",
   "metadata": {},
   "outputs": [
    {
     "name": "stdout",
     "output_type": "stream",
     "text": [
      "-> [ 2, 3 ]"
     ]
    }
   ],
   "source": [
    "v = [2, 3];\n",
    "v;"
   ]
  },
  {
   "cell_type": "markdown",
   "id": "governmental-watch",
   "metadata": {},
   "source": [
    "We can scale each element of our array with a scalar by multiplying a scalar with our array `v`."
   ]
  },
  {
   "cell_type": "code",
   "execution_count": 6,
   "id": "alpha-extent",
   "metadata": {},
   "outputs": [
    {
     "name": "stdout",
     "output_type": "stream",
     "text": [
      "-> [ 8, 12 ]"
     ]
    }
   ],
   "source": [
    "v*4"
   ]
  },
  {
   "cell_type": "code",
   "execution_count": 7,
   "id": "interested-variety",
   "metadata": {},
   "outputs": [
    {
     "name": "stdout",
     "output_type": "stream",
     "text": [
      "-> [ 0.5, 0.75 ]"
     ]
    }
   ],
   "source": [
    "v/4"
   ]
  },
  {
   "cell_type": "markdown",
   "id": "manual-valuable",
   "metadata": {},
   "source": [
    "We can also multiply the array with another array."
   ]
  },
  {
   "cell_type": "code",
   "execution_count": 8,
   "id": "advance-wesley",
   "metadata": {},
   "outputs": [
    {
     "name": "stdout",
     "output_type": "stream",
     "text": [
      "-> [ 8, 27 ]"
     ]
    }
   ],
   "source": [
    "[2,3]*[4,9]"
   ]
  },
  {
   "cell_type": "markdown",
   "id": "electoral-eagle",
   "metadata": {},
   "source": [
    "Lets see what happens when we multiply non-matching dimensions of our arrays."
   ]
  },
  {
   "cell_type": "code",
   "execution_count": 9,
   "id": "humanitarian-robin",
   "metadata": {},
   "outputs": [
    {
     "name": "stdout",
     "output_type": "stream",
     "text": [
      "-> [ 8, 15, 12 ]"
     ]
    }
   ],
   "source": [
    "[2,3]*[4,5,6]"
   ]
  },
  {
   "cell_type": "markdown",
   "id": "considerable-might",
   "metadata": {},
   "source": [
    "A bit unexpecting that we do not receive an error - instead SuperCollider tries to fix our error here by cycling the smaller array until we have gone through all arrays once fully.\n",
    "Lets see how this cascades when we want to multiply 3 arrays with different size."
   ]
  },
  {
   "cell_type": "code",
   "execution_count": 10,
   "id": "analyzed-violin",
   "metadata": {},
   "outputs": [
    {
     "name": "stdout",
     "output_type": "stream",
     "text": [
      "-> [ 56, 120, 108, 80 ]"
     ]
    }
   ],
   "source": [
    "[2, 3] * [4, 5, 6] * [7, 8, 9, 10]"
   ]
  },
  {
   "cell_type": "markdown",
   "id": "addressed-warrant",
   "metadata": {},
   "source": [
    "The results are calculated as following:\n",
    "\n",
    "$$\n",
    "\\begin{aligned}\n",
    "2 \\cdot 4 \\cdot 7 &= 7\\\\\n",
    "3 \\cdot 5 \\cdot 8 &= 120\\\\\n",
    "2 \\cdot 6 \\cdot 9 &= 108\\\\\n",
    "3 \\cdot 4 \\cdot 10 &= 80\n",
    "\\end{aligned}\n",
    "$$"
   ]
  },
  {
   "cell_type": "markdown",
   "id": "entertaining-appliance",
   "metadata": {},
   "source": [
    "### Matrix\n",
    "\n",
    "Now we can also take a look at how a matrix is represented in SuperCollider."
   ]
  },
  {
   "cell_type": "code",
   "execution_count": 11,
   "id": "biological-paper",
   "metadata": {},
   "outputs": [
    {
     "name": "stdout",
     "output_type": "stream",
     "text": [
      "-> [ [ 2, 3, 4 ], [ 4, 5, 6 ] ]"
     ]
    }
   ],
   "source": [
    "n = [\n",
    "    [2, 3, 4],\n",
    "    [4, 5, 6],\n",
    "]"
   ]
  },
  {
   "cell_type": "markdown",
   "id": "sorted-testing",
   "metadata": {},
   "source": [
    "So it is basically just an array of arrays - but lets take a closer look at this as it is important to get the indices and the dimensions properly when working with matrices.\n",
    "\n",
    "Lets say we want to represent a $3 \\times 2$ matrix \n",
    "$$\n",
    "\\text{M} =\n",
    "\\begin{pmatrix}\n",
    "   1 & 2\\\\\n",
    "   3 & 4\\\\\n",
    "   5 & 6\n",
    "\\end{pmatrix}\n",
    "$$"
   ]
  },
  {
   "cell_type": "code",
   "execution_count": 12,
   "id": "metric-glance",
   "metadata": {},
   "outputs": [
    {
     "name": "stdout",
     "output_type": "stream",
     "text": [
      "[ [ 1, 2 ], [ 3, 4 ], [ 5, 6 ] ]\n",
      "-> 2"
     ]
    }
   ],
   "source": [
    "m = [\n",
    "    [1, 2],\n",
    "    [3, 4],\n",
    "    [5, 6],\n",
    "];\n",
    "m.postln;\n",
    "m[0][1];"
   ]
  },
  {
   "cell_type": "markdown",
   "id": "powerful-cartridge",
   "metadata": {},
   "source": [
    "We see that the first dimension in a SuperCollider array are the rows, the 2nd dimension (the content of the arrays) are the columns - this fits nicely with our mathematical notation.\n",
    "\n",
    "So lets try common operations such as the scaling of a matrix with a scalar."
   ]
  },
  {
   "cell_type": "code",
   "execution_count": 13,
   "id": "exposed-tribute",
   "metadata": {},
   "outputs": [
    {
     "name": "stdout",
     "output_type": "stream",
     "text": [
      "-> [ [ 2, 4 ], [ 6, 8 ], [ 10, 12 ] ]"
     ]
    }
   ],
   "source": [
    "m*2;"
   ]
  },
  {
   "cell_type": "markdown",
   "id": "talented-batman",
   "metadata": {},
   "source": [
    "The multiplication of a matrix with a scalar."
   ]
  },
  {
   "cell_type": "code",
   "execution_count": 14,
   "id": "empirical-feature",
   "metadata": {},
   "outputs": [
    {
     "name": "stdout",
     "output_type": "stream",
     "text": [
      "-> [ [ 2, 3 ], [ 4, 5 ], [ 6, 7 ] ]"
     ]
    }
   ],
   "source": [
    "m + 1"
   ]
  },
  {
   "cell_type": "markdown",
   "id": "loving-marijuana",
   "metadata": {},
   "source": [
    "The multiplication of our a matrices with vectors."
   ]
  },
  {
   "cell_type": "code",
   "execution_count": 15,
   "id": "related-lecture",
   "metadata": {},
   "outputs": [
    {
     "name": "stdout",
     "output_type": "stream",
     "text": [
      "-> [ [ 1, 2 ], [ 0, 0 ], [ 10, 12 ] ]"
     ]
    }
   ],
   "source": [
    "m * [1, 0, 2]"
   ]
  },
  {
   "cell_type": "code",
   "execution_count": 16,
   "id": "everyday-kitty",
   "metadata": {},
   "outputs": [
    {
     "name": "stdout",
     "output_type": "stream",
     "text": [
      "-> [ [ 1, 4 ], [ 9, 16 ], [ 25, 36 ] ]"
     ]
    }
   ],
   "source": [
    "m*m"
   ]
  },
  {
   "cell_type": "code",
   "execution_count": 17,
   "id": "heavy-weekly",
   "metadata": {},
   "outputs": [
    {
     "name": "stdout",
     "output_type": "stream",
     "text": [
      "-> [ [ 2, 6, 4 ], [ 12, 20, 18 ], [ 10, 18, 20 ] ]"
     ]
    }
   ],
   "source": [
    "m*n"
   ]
  },
  {
   "cell_type": "markdown",
   "id": "protected-token",
   "metadata": {},
   "source": [
    "Although the dimensions are matching with our mathematical definition the results do not match up."
   ]
  },
  {
   "cell_type": "markdown",
   "id": "annual-treasurer",
   "metadata": {},
   "source": [
    "### Sets\n",
    "\n",
    "The way to declare a set in SuperCollider is straight forward."
   ]
  },
  {
   "cell_type": "code",
   "execution_count": 18,
   "id": "modern-briefs",
   "metadata": {},
   "outputs": [
    {
     "name": "stdout",
     "output_type": "stream",
     "text": [
      "-> Set[ 3, 2, 1 ]"
     ]
    }
   ],
   "source": [
    "a = Set[1, 2, 3, 1];\n",
    "a;"
   ]
  },
  {
   "cell_type": "markdown",
   "id": "upset-diary",
   "metadata": {},
   "source": [
    "Notice that although we declared duplicates in the set this duplication is ignored by SuperCollider as a set can only have unique elements.\n",
    "We can also quickly take a look at the cardinality of sets."
   ]
  },
  {
   "cell_type": "code",
   "execution_count": 19,
   "id": "intimate-congress",
   "metadata": {},
   "outputs": [
    {
     "name": "stdout",
     "output_type": "stream",
     "text": [
      "-> 3"
     ]
    }
   ],
   "source": [
    "a.size;"
   ]
  },
  {
   "cell_type": "markdown",
   "id": "hawaiian-poverty",
   "metadata": {},
   "source": [
    "Note also that due the circumstance that a set has no order we can also not access the *i*-th element of a set."
   ]
  },
  {
   "cell_type": "code",
   "execution_count": 20,
   "id": "generic-consensus",
   "metadata": {},
   "outputs": [
    {
     "name": "stdout",
     "output_type": "stream",
     "text": [
      "ERROR: Message 'at' not understood.\n",
      "RECEIVER:\n",
      "Instance of Set {    (0x7f98d8263488, gc=C0, fmt=00, flg=00, set=02)\n",
      "  instance variables [2]\n",
      "    array : instance of Array (0x7f99101a8108, size=8, set=3)\n",
      "    size : Integer 3\n",
      "}\n",
      "ARGS:\n",
      "   Integer 0\n",
      "\n",
      "PROTECTED CALL STACK:\n",
      "\tMeta_MethodError:new\t0x7f99183ac080\n",
      "\t\targ this = DoesNotUnderstandError\n",
      "\t\targ what = nil\n",
      "\t\targ receiver = Set[ 3, 2, 1 ]\n",
      "\tMeta_DoesNotUnderstandError:new\t0x7f99183ae040\n",
      "\t\targ this = DoesNotUnderstandError\n",
      "\t\targ receiver = Set[ 3, 2, 1 ]\n",
      "\t\targ selector = at\n",
      "\t\targ args = [ 0 ]\n",
      "\tObject:doesNotUnderstand\t0x7f99181fb200\n",
      "\t\targ this = Set[ 3, 2, 1 ]\n",
      "\t\targ selector = at\n",
      "\t\targ args = nil\n",
      "\ta FunctionDef\t0x7f98d80f6a08\n",
      "\t\tsourceCode = \"{ var result; \\\"**** JUPYTER ****\\\".postln; result = {a[0]}.value(); postf(\\\"-> %\n",
      "\\\", result); \\\"\\\".postln;}\"\n"
     ]
    }
   ],
   "source": [
    "a[0]"
   ]
  },
  {
   "cell_type": "markdown",
   "id": "blocked-weight",
   "metadata": {},
   "source": [
    "## Working with matrices\n",
    "\n",
    "Lets start by implementing a function which will multiply two matrices which also checks if this is a valid operation."
   ]
  },
  {
   "cell_type": "code",
   "execution_count": 21,
   "id": "gothic-thong",
   "metadata": {},
   "outputs": [
    {
     "name": "stdout",
     "output_type": "stream",
     "text": [
      "-> a Function"
     ]
    }
   ],
   "source": [
    "~matrixMul = {|a, b|\n",
    "    if(a[0].size == b.size, {\n",
    "        a.collect({|d, i|\n",
    "            (b.collect({|z| z}) * d).sum;\n",
    "        });\n",
    "    }, {\n",
    "        \"error\".postln;\n",
    "    });\n",
    "};"
   ]
  },
  {
   "cell_type": "code",
   "execution_count": 22,
   "id": "mobile-cycle",
   "metadata": {},
   "outputs": [
    {
     "name": "stdout",
     "output_type": "stream",
     "text": [
      "-> [ [ 4 ], [ 6 ] ]"
     ]
    }
   ],
   "source": [
    "~matrixMul.(\n",
    "    [[1, 1, 1], [1,1,3]],\n",
    "    [[2],[1],[1]]\n",
    ")"
   ]
  },
  {
   "cell_type": "markdown",
   "id": "dental-stranger",
   "metadata": {},
   "source": [
    "We want to use this function to calculate downmixes.\n",
    "\n",
    "To do this we first need to start the server."
   ]
  },
  {
   "cell_type": "code",
   "execution_count": 23,
   "id": "incomplete-billion",
   "metadata": {},
   "outputs": [
    {
     "name": "stdout",
     "output_type": "stream",
     "text": [
      "-> localhost"
     ]
    }
   ],
   "source": [
    "s.boot;"
   ]
  },
  {
   "cell_type": "code",
   "execution_count": 24,
   "id": "heated-there",
   "metadata": {},
   "outputs": [
    {
     "name": "stdout",
     "output_type": "stream",
     "text": [
      "-> Ndef('x')"
     ]
    }
   ],
   "source": [
    "Ndef(\\x, {\n",
    "    var a, b, mix, selected, gater;\n",
    "\n",
    "    gater = {\n",
    "        Trig1.kr(\n",
    "            in: PulseDivider.kr(\n",
    "                trig: Impulse.kr(8), \n",
    "                div: IRand(4, 9),\n",
    "                start: IRand(0, 8)),\n",
    "            dur: 1/8\n",
    "        )\n",
    "    };\n",
    "\n",
    "    a = [\n",
    "        [SinOsc.ar(freq: [440, 226, 782]) * gater.value],\n",
    "        [Saw.ar(freq: [45, 881, 9000]) * gater.value],\n",
    "        [Pulse.ar(freq: [8000, 1000, 500]) * gater.value],\n",
    "        [Blip.ar(freq: [3, 8, 20], numharm: 140) * gater.value],\n",
    "    ];\n",
    "\n",
    "    // calculate a mixdown\n",
    "    b = { [1.0, 1.0, 1.0, 1.0].rand } ! 1;\n",
    "    //b = { LFNoise1.kr(1 ! 3).max(0) } ! 8;\n",
    "    mix = ~matrixMul.(a, b);\n",
    "    \n",
    "    // flip through the signals\n",
    "    selected = SelectX.ar(\n",
    "        which: MouseX.kr(0, 7).round.lag, \n",
    "        array: mix\n",
    "    );\n",
    "    \n",
    "    // each row is three-channel, mix to stereo\n",
    "    Splay.ar(inArray: selected) * 0.1\n",
    "}).play;"
   ]
  },
  {
   "cell_type": "markdown",
   "id": "sharp-village",
   "metadata": {},
   "source": [
    "We stop the audio playback of the SuperCollider server by executing a single dot."
   ]
  },
  {
   "cell_type": "code",
   "execution_count": 25,
   "id": "violent-genesis",
   "metadata": {},
   "outputs": [
    {
     "name": "stdout",
     "output_type": "stream",
     "text": [
      "-> CmdPeriod"
     ]
    }
   ],
   "source": [
    "."
   ]
  }
 ],
 "metadata": {
  "kernelspec": {
   "display_name": "SuperCollider",
   "language": "",
   "name": "sc_kernel"
  },
  "language_info": {
   "file_extension": ".scd",
   "mimetype": "text/x-sclang",
   "name": "smalltalk",
   "pygments_lexer": "supercollider"
  }
 },
 "nbformat": 4,
 "nbformat_minor": 5
}
