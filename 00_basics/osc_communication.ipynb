{
 "cells": [
  {
   "cell_type": "markdown",
   "id": "aae387b9-89b8-4007-a0af-7c07bf07d42f",
   "metadata": {},
   "source": [
    "# Communicating between SuperCollider and Python\n",
    "\n",
    "One may ask the question why there are so many different programming languages in the first place is valid.\n",
    "One of the reasons is that certain programming languages follow ceration aproaches that fit certain domain specific needs.\n",
    "\n",
    "The programming language *sclang* of SuperCollider platform is an *interpreted* language which means [each instruction gets dynamically evaluated](https://stackoverflow.com/a/3265602/3475778).\n",
    "Of course there is the question how *sclang* itself has been written which is C++, a *compiled* language.\n",
    "Basically compiled languages have the advantage of being fast where interpreted languages allow for a more dynamic aproach which comes handy during live situations but are therefore slower.\n",
    "\n",
    "As audio processing is time critical (see [real time computing](https://en.wikipedia.org/wiki/Real-time_computing)) we need a fast language (C++) to generate the audio signal but we want also a language on a more abstract level to control the audio generation and not care about e.g. memory allocation, which *sclang* delivers.\n",
    "A different aproach is used by e.g. [openFrameworks](https://openframeworks.cc/) in which one programs directly in C++ but *openFrameworks* delivers convenience function for often used tasks - this aproach is often called a library or framework and is not a new programming language like *sclang*.\n",
    "\n",
    "As *sclang* itself is not fast enough to generate audio signals we need to send send control commands to the audio generating server *scsynth* which is written in C++.\n",
    "In order to communicate between both entities *sclang* and *scsynth* uses *OSC* (Open Sounc Control) which defines a protocol to send data between both entities.\n",
    "\n",
    "![Drawing](scsynth_sclang.svg)\n",
    "\n",
    "As we now have lurked into the topic of the motivation behind the multitude of programming languages we now introduce a new programming language [Python](https://www.python.org/).\n",
    "The first paragraph of the [Wikipedia article about Python](https://en.wikipedia.org/wiki/Python_(programming_language)) says\n",
    "\n",
    "> Python is an interpreted high-level general-purpose programming language. Python's design philosophy emphasizes code readability with its notable use of significant indentation. Its language constructs as well as its object-oriented approach aim to help programmers write clear, logical code for small and large-scale projects.\n",
    "\n",
    "Sounds great, but as it is an interpreted language it is still not fast enough for audio generation like *scsynth* and as it is not designed specifically to control audio synthesis like *sclang* but nonetheless it has the advantage that a lot of people adapt a variety of applications and libraries for Python.\n",
    "In particular Python gained popularity within the last years as it is the de-facto standard for data analysis as lots Data Science and Machine Learning applications rely on the simplicity and readability of Python.\n",
    "We could implement these algorithms in sclang as both languages are turing complete but this is a big task as these algorithms can be tricky to implement properly so we need to find a way to communicate between both languages what this chapter is about."
   ]
  },
  {
   "cell_type": "code",
   "execution_count": null,
   "id": "711d583a-a1b7-4fa6-8854-b8fffa6ae87a",
   "metadata": {
    "tags": [
     "hide-input"
    ]
   },
   "outputs": [
    {
     "data": {
      "text/html": [
       "<iframe width=\"560\" height=\"315\" src=\"https://www.youtube-nocookie.com/embed/RPQD7-AOjMI\" title=\"YouTube video player\" frameborder=\"0\" allow=\"accelerometer; autoplay; clipboard-write; encrypted-media; gyroscope; picture-in-picture\" allowfullscreen></iframe>\n"
      ],
      "text/plain": [
       "<IPython.core.display.HTML object>"
      ]
     },
     "metadata": {},
     "output_type": "display_data"
    }
   ],
   "source": [
    "%%html\n",
    "<iframe width=\"560\" height=\"315\" src=\"https://www.youtube-nocookie.com/embed/RPQD7-AOjMI\" title=\"YouTube video player\" frameborder=\"0\" allow=\"accelerometer; autoplay; clipboard-write; encrypted-media; gyroscope; picture-in-picture\" allowfullscreen></iframe>"
   ]
  },
  {
   "cell_type": "markdown",
   "id": "9d7263fd-b25b-46b7-96ae-f4eeed1689a4",
   "metadata": {},
   "source": [
    "## OSC\n",
    "\n",
    "A message is send from a sender to a receiver - so when we want to implement a messanging system between SuperCollider and Python using OSC we need to consider who is the sender (the client) and who is the receiver (the server).\n",
    "\n",
    "But before we can start building the messanging infrastructure we need to teach Python the OSC protocol.\n",
    "By doing some research we find the Python library [python-osc](https://github.com/attwad/python-osc) which implements the OSC protocol for Python so we do not need to take care of this.\n",
    "Now it comes down to reading documentation."
   ]
  },
  {
   "cell_type": "markdown",
   "id": "9bff55ed-1c63-40fc-a778-4a3875e5b553",
   "metadata": {},
   "source": [
    "### From Python to SuperCollider\n",
    "\n",
    "We start by sending an OSC message from Python to SuperCollider which controls the frequency of a synth.\n",
    "It is good practice to set up the receiver first before sending a message from the client so we focus on the SuperCollider part first.\n",
    "\n",
    "![Python as a OSC client](python_client.svg)"
   ]
  },
  {
   "cell_type": "markdown",
   "id": "96fa0cc9-3206-4fcb-862d-20827e665ff5",
   "metadata": {},
   "source": [
    "#### SuperCollider\n",
    "\n",
    "We start by booting the scsynth server\n",
    "\n",
    "```supercollider\n",
    "s.boot;\n",
    "```\n",
    "\n",
    "and adding a SynthDef to it\n",
    "\n",
    "```supercollider\n",
    "SynthDef(\\foo, {|out|\n",
    "    var sig = Saw.ar(freq: \\freq.kr(200));\n",
    "    var env = EnvGen.kr(Env.linen(\n",
    "        sustainTime: 0.2,\n",
    "        releaseTime: 0.2,\n",
    "    ), doneAction: Done.freeSelf);\n",
    "    Out.ar(out, sig*env*\\amp.kr(0.2)!2);\n",
    "}).add;\n",
    "```\n",
    "\n",
    "and testing it\n",
    "\n",
    "```supercollider\n",
    "Synth(\\foo, [\\freq, 400]);\n",
    "```"
   ]
  },
  {
   "cell_type": "markdown",
   "id": "07c8fe45-be18-4663-8673-4183b6c596c2",
   "metadata": {},
   "source": [
    "Now it is time to take a look at the [documentation of the OSC communication in SuperCollider](https://doc.sccode.org/Guides/OSC_communication.html).\n",
    "\n",
    "A good starting point is to verify the port of the *sclang* instance by executing\n",
    "\n",
    "```supercollider\n",
    "NetAddr.langPort;\n",
    "-> 57120\n",
    "```\n",
    "\n",
    "This port can change if the port is already taken by e.g. another sclang instance so it is good practice to verify this port as it will be important when writing the Python section.\n",
    "\n",
    "We can use [`OSCdef`](https://doc.sccode.org/Classes/OSCdef.html) to register a function which will be called when we receive an OSC message on a *path* which is like a sub-URL.\n",
    "A parameter of the function we need to provide is the actually received message - we call this kind of function a [*callback function*](https://developer.mozilla.org/en-US/docs/Glossary/Callback_function) which are often used with an [event loop](https://developer.mozilla.org/en-US/docs/Web/JavaScript/EventLoop) like in JavaScript.\n",
    "\n",
    "```supercollider\n",
    "OSCdef(key: \\myOscDef, func: {|msg|\n",
    "    # msg[0] is the path that the message was received on\n",
    "    Synth(\\foo, [\\freq, msg[1]]);\n",
    "}, path: \"/my_path\");\n",
    "```\n",
    "\n",
    "We have now setup a SuperCollider server which listens on OSC messages on channel `/my_path` and expects a frequency value in this message which will be used to play our synth."
   ]
  },
  {
   "cell_type": "markdown",
   "id": "3b90a19d-f43d-449b-a254-7a3616762c9c",
   "metadata": {},
   "source": [
    "#### Python\n",
    "\n",
    "Taking a look at the documentation of *python-osc* we find an [example](https://github.com/attwad/python-osc#simple-client) which implements an OSC client so we only need to adjust the code for our needs.\n",
    "\n",
    "As always we need to import the libraries we want to use before we can use them.\n",
    "If this part fails check that you have installed all necesarry dependencies - see {ref}`install-dependencies`."
   ]
  },
  {
   "cell_type": "code",
   "execution_count": null,
   "id": "db5e61f7-6c01-44c7-b444-ab740bb65efd",
   "metadata": {},
   "outputs": [],
   "source": [
    "import time\n",
    "\n",
    "import numpy as np\n",
    "from pythonosc import udp_client\n",
    "\n",
    "np.random.seed(42)"
   ]
  },
  {
   "cell_type": "markdown",
   "id": "b3fd4584-b704-45f5-bdf3-2749f5e6c69f",
   "metadata": {},
   "source": [
    "Now we need to specify the address of the OSC server which we want to send our message to.\n",
    "The IP address `127.0.0.1` is our own machine (also often called `localhost`) and we identified the port via `NetAddr.langPort;` before."
   ]
  },
  {
   "cell_type": "code",
   "execution_count": null,
   "id": "34268ec5-cb0a-4180-b6f0-9cb53a595c6b",
   "metadata": {},
   "outputs": [],
   "source": [
    "osc_client = udp_client.SimpleUDPClient(address='127.0.0.1', port=57120)"
   ]
  },
  {
   "cell_type": "markdown",
   "id": "76887281-1154-4470-a2f6-97acd569391c",
   "metadata": {},
   "source": [
    "Now we simply send a message from Python to OSC on channel `/my_path`.\n",
    "If everything worked correctly we should hear a sound from SuperCollider."
   ]
  },
  {
   "cell_type": "code",
   "execution_count": null,
   "id": "f23a5947-f9ae-458a-8349-1521b471c821",
   "metadata": {},
   "outputs": [],
   "source": [
    "for i in range(10):\n",
    "    osc_client.send_message(\"/my_path\", np.random.randint(100, 1000))\n",
    "    time.sleep(0.2)"
   ]
  },
  {
   "cell_type": "markdown",
   "id": "33fa4297-0272-48ee-b81d-57a9adc3e4b4",
   "metadata": {},
   "source": [
    "#### Debugging the communication\n",
    "\n",
    "If no sound was played there are some steps that can help you to find the issue.\n",
    "\n",
    "* Check ports and adresses twice! Prefer copy & pasting over typing as transposed digits *(\"Zahlendreher\")* are notorious for wasting precios lifetime\n",
    "* Do not miss the slash in the osc path: For SuperCollider and for Python\n",
    "* Use [`OSCFunc.trace(false, true);`](https://doc.sccode.org/Classes/OSCFunc.html#*trace) in SuperCollider to dump all incoming OSC messages. If you do not receive any kind of messages here there is something wrong with the addresses."
   ]
  }
 ],
 "metadata": {
  "kernelspec": {
   "display_name": "Python 3",
   "language": "python",
   "name": "python3"
  },
  "language_info": {
   "codemirror_mode": {
    "name": "ipython",
    "version": 3
   },
   "file_extension": ".py",
   "mimetype": "text/x-python",
   "name": "python",
   "nbconvert_exporter": "python",
   "pygments_lexer": "ipython3"
  }
 },
 "nbformat": 4,
 "nbformat_minor": 5
}
