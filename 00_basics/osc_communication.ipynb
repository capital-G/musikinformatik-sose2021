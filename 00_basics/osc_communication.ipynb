{
 "cells": [
  {
   "cell_type": "markdown",
   "id": "aae387b9-89b8-4007-a0af-7c07bf07d42f",
   "metadata": {},
   "source": [
    "# Communicating between SuperCollider and Python\n",
    "\n",
    "One may ask the question why there are so many different programming languages in the first place is valid.\n",
    "One of the reasons is that certain programming languages follow ceration aproaches that fit certain domain specific needs.\n",
    "\n",
    "The programming language *sclang* of SuperCollider platform is an *interpreted* language which means [each instruction gets dynamically evaluated](https://stackoverflow.com/a/3265602/3475778).\n",
    "Of course there is the question how *sclang* itself has been written which is C++, a *compiled* language.\n",
    "Basically compiled languages have the advantage of being fast where interpreted languages allow for a more dynamic aproach which comes handy during live situations but are therefore slower.\n",
    "\n",
    "As audio processing is time critical (see [real time computing](https://en.wikipedia.org/wiki/Real-time_computing)) we need a fast language (C++) to generate the audio signal but we want also a language on a more abstract level to control the audio generation and not care about e.g. memory allocation, which *sclang* delivers.\n",
    "A different aproach is used by e.g. [openFrameworks](https://openframeworks.cc/) in which one programs directly in C++ but *openFrameworks* delivers convenience function for often used tasks - this aproach is often called a library or framework and is not a new programming language like *sclang*.\n",
    "\n",
    "As *sclang* itself is not fast enough to generate audio signals we need to send send control commands to the audio generating server *scsynth* which is written in C++.\n",
    "In order to communicate between both entities *sclang* and *scsynth* uses *OSC* (Open Sounc Control) which defines a protocol to send data between both entities.\n",
    "\n",
    "![Drawing](scsynth_sclang.svg)\n",
    "\n",
    "As we now have lurked into the topic of the motivation behind the multitude of programming languages we now introduce a new programming language [Python](https://www.python.org/).\n",
    "The first paragraph of the [Wikipedia article about Python](https://en.wikipedia.org/wiki/Python_(programming_language)) says\n",
    "\n",
    "> Python is an interpreted high-level general-purpose programming language. Python's design philosophy emphasizes code readability with its notable use of significant indentation. Its language constructs as well as its object-oriented approach aim to help programmers write clear, logical code for small and large-scale projects.\n",
    "\n",
    "Sounds great, but as it is an interpreted language it is still not fast enough for audio generation like *scsynth* and as it is not designed specifically to control audio synthesis like *sclang* but nonetheless it has the advantage that a lot of people adapt a variety of applications and libraries for Python.\n",
    "In particular Python gained popularity within the last years as it is the de-facto standard for data analysis as lots Data Science and Machine Learning applications rely on the simplicity and readability of Python.\n",
    "We could implement these algorithms in sclang as both languages are turing complete but this is a big task as these algorithms can be tricky to implement properly so we need to find a way to communicate between both languages what this chapter is about."
   ]
  },
  {
   "cell_type": "code",
   "execution_count": null,
   "id": "711d583a-a1b7-4fa6-8854-b8fffa6ae87a",
   "metadata": {
    "tags": [
     "hide-input"
    ]
   },
   "outputs": [
    {
     "data": {
      "text/html": [
       "<iframe width=\"560\" height=\"315\" src=\"https://www.youtube-nocookie.com/embed/RPQD7-AOjMI\" title=\"YouTube video player\" frameborder=\"0\" allow=\"accelerometer; autoplay; clipboard-write; encrypted-media; gyroscope; picture-in-picture\" allowfullscreen></iframe>\n"
      ],
      "text/plain": [
       "<IPython.core.display.HTML object>"
      ]
     },
     "metadata": {},
     "output_type": "display_data"
    }
   ],
   "source": [
    "%%html\n",
    "<iframe width=\"560\" height=\"315\" src=\"https://www.youtube-nocookie.com/embed/RPQD7-AOjMI\" title=\"YouTube video player\" frameborder=\"0\" allow=\"accelerometer; autoplay; clipboard-write; encrypted-media; gyroscope; picture-in-picture\" allowfullscreen></iframe>"
   ]
  },
  {
   "cell_type": "markdown",
   "id": "9d7263fd-b25b-46b7-96ae-f4eeed1689a4",
   "metadata": {},
   "source": [
    "## OSC\n",
    "\n",
    "A message is send from a sender to a receiver - so when we want to implement a messanging system between SuperCollider and Python using OSC we need to consider who is the sender (the client) and who is the receiver (the server).\n",
    "\n",
    "But before we can start building the messanging infrastructure we need to teach Python the OSC protocol.\n",
    "By doing some research we find the Python library [python-osc](https://github.com/attwad/python-osc) which implements the OSC protocol for Python so we do not need to take care of this.\n",
    "Now it comes down to reading documentation."
   ]
  },
  {
   "cell_type": "markdown",
   "id": "9bff55ed-1c63-40fc-a778-4a3875e5b553",
   "metadata": {},
   "source": [
    "### From Python to SuperCollider\n",
    "\n",
    "We start by sending an OSC message from Python to SuperCollider which controls the frequency of a synth.\n",
    "It is good practice to set up the receiver first before sending a message from the client so we focus on the SuperCollider part first.\n",
    "\n",
    "![Python as a OSC client](python_client.svg)"
   ]
  },
  {
   "cell_type": "markdown",
   "id": "96fa0cc9-3206-4fcb-862d-20827e665ff5",
   "metadata": {},
   "source": [
    "#### SuperCollider\n",
    "\n",
    "We start by booting the scsynth server\n",
    "\n",
    "```supercollider\n",
    "s.boot;\n",
    "```\n",
    "\n",
    "and adding a SynthDef to it\n",
    "\n",
    "```supercollider\n",
    "SynthDef(\\foo, {|out|\n",
    "    var sig = Saw.ar(freq: \\freq.kr(200));\n",
    "    var env = EnvGen.kr(Env.linen(\n",
    "        sustainTime: 0.2,\n",
    "        releaseTime: 0.2,\n",
    "    ), doneAction: Done.freeSelf);\n",
    "    Out.ar(out, sig*env*\\amp.kr(0.2)!2);\n",
    "}).add;\n",
    "```\n",
    "\n",
    "and testing it\n",
    "\n",
    "```supercollider\n",
    "Synth(\\foo, [\\freq, 400]);\n",
    "```"
   ]
  },
  {
   "cell_type": "markdown",
   "id": "07c8fe45-be18-4663-8673-4183b6c596c2",
   "metadata": {},
   "source": [
    "Now it is time to take a look at the [documentation of the OSC communication in SuperCollider](https://doc.sccode.org/Guides/OSC_communication.html).\n",
    "\n",
    "A good starting point is to verify the port of the *sclang* instance by executing\n",
    "\n",
    "```supercollider\n",
    "NetAddr.langPort;\n",
    "-> 57120\n",
    "```\n",
    "\n",
    "This port can change if the port is already taken by e.g. another sclang instance so it is good practice to verify this port as it will be important when writing the Python section.\n",
    "\n",
    "We can use [`OSCdef`](https://doc.sccode.org/Classes/OSCdef.html) to register a function which will be called when we receive an OSC message on a *path* which is like a sub-URL.\n",
    "A parameter of the function we need to provide is the actually received message - we call this kind of function a [*callback function*](https://developer.mozilla.org/en-US/docs/Glossary/Callback_function) which are often used with an [event loop](https://developer.mozilla.org/en-US/docs/Web/JavaScript/EventLoop) like in JavaScript.\n",
    "\n",
    "```supercollider\n",
    "OSCdef(key: \\myOscDef, func: {|msg|\n",
    "    # msg[0] is the path that the message was received on\n",
    "    Synth(\\foo, [\\freq, msg[1]]);\n",
    "}, path: \"/my_path\");\n",
    "```\n",
    "\n",
    "We have now setup a SuperCollider server which listens on OSC messages on channel `/my_path` and expects a frequency value in this message which will be used to play our synth."
   ]
  },
  {
   "cell_type": "markdown",
   "id": "3b90a19d-f43d-449b-a254-7a3616762c9c",
   "metadata": {},
   "source": [
    "#### Python\n",
    "\n",
    "Taking a look at the documentation of *python-osc* we find an [example](https://github.com/attwad/python-osc#simple-client) which implements an OSC client so we only need to adjust the code for our needs.\n",
    "\n",
    "As always we need to import the libraries we want to use before we can use them.\n",
    "If this part fails check that you have installed all necesarry dependencies - see {ref}`install-dependencies`."
   ]
  },
  {
   "cell_type": "code",
   "execution_count": null,
   "id": "db5e61f7-6c01-44c7-b444-ab740bb65efd",
   "metadata": {},
   "outputs": [],
   "source": [
    "import time\n",
    "\n",
    "import numpy as np\n",
    "from pythonosc import udp_client\n",
    "\n",
    "np.random.seed(42)"
   ]
  },
  {
   "cell_type": "markdown",
   "id": "b3fd4584-b704-45f5-bdf3-2749f5e6c69f",
   "metadata": {},
   "source": [
    "Now we need to specify the address of the OSC server which we want to send our message to.\n",
    "The IP address `127.0.0.1` is our own machine (also often called `localhost`) and we identified the port via `NetAddr.langPort;` before."
   ]
  },
  {
   "cell_type": "code",
   "execution_count": null,
   "id": "34268ec5-cb0a-4180-b6f0-9cb53a595c6b",
   "metadata": {},
   "outputs": [],
   "source": [
    "osc_client = udp_client.SimpleUDPClient(address='127.0.0.1', port=57120)"
   ]
  },
  {
   "cell_type": "markdown",
   "id": "76887281-1154-4470-a2f6-97acd569391c",
   "metadata": {},
   "source": [
    "Now we simply send a message from Python to OSC on channel `/my_path`.\n",
    "If everything worked correctly we should hear a sound from SuperCollider."
   ]
  },
  {
   "cell_type": "code",
   "execution_count": null,
   "id": "f23a5947-f9ae-458a-8349-1521b471c821",
   "metadata": {},
   "outputs": [],
   "source": [
    "for i in range(10):\n",
    "    osc_client.send_message(\"/my_path\", np.random.randint(100, 1000))\n",
    "    time.sleep(0.2)"
   ]
  },
  {
   "cell_type": "markdown",
   "id": "33fa4297-0272-48ee-b81d-57a9adc3e4b4",
   "metadata": {},
   "source": [
    "#### Debugging communication\n",
    "\n",
    "If no sound was played there are some steps that can help you to find the issue.\n",
    "\n",
    "* Check ports and adresses twice! Prefer copy & pasting over typing as transposed digits *(\"Zahlendreher\")* are notorious for wasting precios lifetime\n",
    "* Do not miss the slash in the osc path: For SuperCollider and for Python\n",
    "* Use [`OSCFunc.trace(false, true);`](https://doc.sccode.org/Classes/OSCFunc.html#*trace) in SuperCollider to dump all incoming OSC messages. If you do not receive any kind of messages here there is something wrong with the addresses."
   ]
  },
  {
   "cell_type": "markdown",
   "id": "f4f78d5b-4c24-44f1-ae8e-a8429eb1e522",
   "metadata": {},
   "source": [
    "### From SuperCollider to Python\n",
    "\n",
    "After we have seen how to send messages from Python to SuperCollider we want to take a look at how we can send messages from SuperCollider to Python.\n",
    "\n",
    "Before we start by setting up a OSC server in Python we want to discuss two things: Error handling and freeing resources."
   ]
  },
  {
   "cell_type": "markdown",
   "id": "18598b55-09d9-4c72-ad5a-0222d4121fb6",
   "metadata": {},
   "source": [
    "#### Error handling in Python\n",
    "\n",
    "SuperCollider has a different philosophy of error handling than most commonly used programming languages such as Python which are a bit stricter on errors.\n",
    "This does not mean that SuperCollider will simply follow blindly everything without giving us feedback if something failed but it will often try to *fix* something instead of throwing an error.\n",
    "\n",
    "This strictness seems maybe annoying at first but when working with databases or files this strictness of error handling is useful - imagine if we want to copy files from location A to location B and delete them afterwards but while copying we run out of space.\n",
    "This would be a good time to stop the program with an error instead of continuing with the deletion of the files in location A and this is where exceptions come into play.\n",
    "\n",
    "A good example of this is the [division by zero](https://en.wikipedia.org/wiki/Division_by_zero) which is undefined an *not* infinity and can [lead to real life consequences](https://www.wired.com/1998/07/sunk-by-windows-nt/)\n",
    "\n",
    "```supercollider\n",
    "1/0\n",
    "-> inf\n",
    "```\n",
    "\n",
    "Compare this to Python"
   ]
  },
  {
   "cell_type": "code",
   "execution_count": null,
   "id": "24457840-1d4c-4447-b275-453190df1253",
   "metadata": {},
   "outputs": [
    {
     "ename": "ZeroDivisionError",
     "evalue": "division by zero",
     "output_type": "error",
     "traceback": [
      "\u001b[0;31m---------------------------------------------------------------------------\u001b[0m",
      "\u001b[0;31mZeroDivisionError\u001b[0m                         Traceback (most recent call last)",
      "\u001b[0;32m<ipython-input-5-9e1622b385b6>\u001b[0m in \u001b[0;36m<module>\u001b[0;34m\u001b[0m\n\u001b[0;32m----> 1\u001b[0;31m \u001b[0;36m1\u001b[0m\u001b[0;34m/\u001b[0m\u001b[0;36m0\u001b[0m\u001b[0;34m\u001b[0m\u001b[0;34m\u001b[0m\u001b[0m\n\u001b[0m",
      "\u001b[0;31mZeroDivisionError\u001b[0m: division by zero"
     ]
    }
   ],
   "source": [
    "1/0"
   ]
  },
  {
   "cell_type": "markdown",
   "id": "f6feac4f-1691-4a77-8e32-cac180eca5fe",
   "metadata": {},
   "source": [
    "which yields on exception and therefore stops the execution our program.\n",
    "This does not mean that anytime we want to divide by 0 our Python program will stop, we just have catch this exception and explicitly tell Python what to do in this case."
   ]
  },
  {
   "cell_type": "code",
   "execution_count": null,
   "id": "5fe5dd6f-9b8c-48db-95ab-beb502722476",
   "metadata": {},
   "outputs": [
    {
     "name": "stdout",
     "output_type": "stream",
     "text": [
      "Do not divide by zero\n"
     ]
    },
    {
     "data": {
      "text/plain": [
       "0"
      ]
     },
     "execution_count": null,
     "metadata": {},
     "output_type": "execute_result"
    }
   ],
   "source": [
    "def safe_division(x):\n",
    "    try:\n",
    "        return 1/x\n",
    "    except ZeroDivisionError:\n",
    "        print(\"Do not divide by zero\")\n",
    "        return 0\n",
    "\n",
    "safe_division(0)"
   ]
  },
  {
   "cell_type": "markdown",
   "id": "2b62d215-16cc-4639-8d46-35c65987a6ed",
   "metadata": {},
   "source": [
    "SuperCollider has also an [Exception](https://doc.sccode.org/Classes/Exception.html) class but as seen above is not as used as much.\n",
    "\n",
    "The motivation on the more relaxed (or implicit) error handling of SuperCollider is to not stop the audio output on ambigious inputs during live coding - one discipline where Python is not often used for."
   ]
  },
  {
   "cell_type": "markdown",
   "id": "d5bda86b-0753-4b9e-a2f8-b83e79e6b47e",
   "metadata": {},
   "source": [
    "#### Freeing resources\n",
    "\n",
    "Coming from SuperCollide one is familiar with the [`Done`](https://doc.sccode.org/Classes/Done.html) class which adds the posibilty to free a synth based on certain occasions (e.g. by reaching the end of an amplitude envelope).\n",
    "Although on high level languages like Python or sclang we do not have to care so much about allocation and freeing of resources like in more low level languages like C++ (which is one of the reasons it is so fast) it is still necessary to think about this on a higher level.\n",
    "We only have limited resources on a computer and need to clean up unused resources like silent synths that will never generate any sounds anymore - this gets even more relevant the more these resources are limited.\n",
    "\n",
    "A really limited resource are ports on a computer - only one application can serve a port and if this port is already in use we can not use this port for our application.\n",
    "As a server needs to listen on a port it is best practice to also tell the operating system that we are not using the port anymore if we stop listening for messages with our server so this port can be re-used again later.\n",
    "We can combine this with our Exception handling discussed above which we will see in a minute.\n",
    "\n",
    "When working with network or file resources (which are actually [quiet similiar](https://en.wikipedia.org/wiki/Everything_is_a_file)) it is best practice to clean up after oneself after the work is done.\n",
    "It gets problematic if an error occures while we do some work because then our clean up routine will maybe not executed.\n",
    "Python has a `finally` block for this which gets called if any exception occured or if everything worked as expected."
   ]
  },
  {
   "cell_type": "markdown",
   "id": "2c1bcb47-c1bf-49ff-bdc5-2e83a318d115",
   "metadata": {},
   "source": [
    "#### Setting up the OSC server in Python\n",
    "\n",
    "Now we can start by setting up a OSC server in Python.\n",
    "\n",
    "We start by setting up a *dispatcher* which simply tells Python what to do when a message on a certain path is received."
   ]
  },
  {
   "cell_type": "code",
   "execution_count": null,
   "id": "feef49d7-989d-4c94-b144-d65d63799bd3",
   "metadata": {},
   "outputs": [
    {
     "data": {
      "text/plain": [
       "<pythonosc.dispatcher.Handler at 0x11040fe50>"
      ]
     },
     "execution_count": null,
     "metadata": {},
     "output_type": "execute_result"
    }
   ],
   "source": [
    "from pythonosc.dispatcher import Dispatcher\n",
    "from datetime import datetime\n",
    "\n",
    "dispatcher = Dispatcher()\n",
    "\n",
    "# **kwargs collects any arguments we forgot to set explicitly \n",
    "def print_osc(address, message, **kwargs):\n",
    "    print(\"{time} - {message}\".format(\n",
    "        time=datetime.now().strftime(\"%H:%M:%S.%f\"),\n",
    "        message=message,\n",
    "    ))\n",
    "\n",
    "# we map the print_osc function as *handler* on path my_python_path\n",
    "dispatcher.map(address=\"/my_python_path\", handler=print_osc)"
   ]
  },
  {
   "cell_type": "markdown",
   "id": "7bed147b-eae5-4a76-9ffe-71cfa69689c5",
   "metadata": {},
   "source": [
    "After we set up the logic of how to respond to messages we can now bind this to a port and therefore acting as a server.\n",
    "\n",
    "This will show a difference between sclang and Python: normally Python can only do one thing at once - so when Python is listening for messages we can not do something else in the meantime like in sclang.\n",
    "\n",
    "Therefore we should discuss on how to stop the server - once started we can not do something else in Python!\n",
    "In *Jupyter Lab* one can click on *Interrupt Kernel* in the *Kernel* tab or enter the shortcut `i i` - this wil trigger a *keyboard interrupt* which is normally triggered by hitting `cmd/control  c` - but for now we want to keep the server running."
   ]
  },
  {
   "cell_type": "code",
   "execution_count": null,
   "id": "5f32c546-3ffc-4848-99c3-e77b3839e6ac",
   "metadata": {},
   "outputs": [
    {
     "name": "stdout",
     "output_type": "stream",
     "text": [
      "Start OSC server on port 57310\n",
      "23:11:15.004284 - hello from supercollider\n",
      "Shutdown Python server on port 57310\n"
     ]
    }
   ],
   "source": [
    "from pythonosc.osc_server import ThreadingOSCUDPServer\n",
    "\n",
    "server = ThreadingOSCUDPServer(\n",
    "    # sclang is listening on port 57320 so we take 57310 for python\n",
    "    server_address=(\"127.0.0.1\", 57310),\n",
    "    dispatcher=dispatcher\n",
    ")\n",
    "print(f\"Start OSC server on port {server.server_address[-1]}\")\n",
    "\n",
    "try:\n",
    "    server.serve_forever()\n",
    "except KeyboardInterrupt:\n",
    "    print(f\"Shutdown Python server on port {server.server_address[-1]}\")\n",
    "finally:\n",
    "    # we tell the OS that we do not need any longer the port\n",
    "    server.server_close()"
   ]
  },
  {
   "cell_type": "markdown",
   "id": "45abea96-3e06-4e0a-b206-8f65c932b1fc",
   "metadata": {},
   "source": [
    "As the server is now running (indicated by `*` next to the code cell in Jupyter) we can send a message from SuperCollider to Python.\n",
    "SuperCollider is built around OSC (but also quiet restricted to OSC) so we can easily set up a client and send a message.\n",
    "\n",
    "```supercollider\n",
    "// our python osc server is listening on port 57310\n",
    "b = NetAddr(\"127.0.0.1\", 57310)\n",
    "\n",
    "b.sendMsg(\"/my_python_path\", \"hello from supercollider\")\n",
    "```\n",
    "\n",
    "Once we run these lines in sclang we will see the message appear in Python.\n",
    "We can now close the server by running *Interrup Kernel*."
   ]
  },
  {
   "cell_type": "markdown",
   "id": "780cbe32-3c6f-4085-aa83-b85aaae55fe7",
   "metadata": {},
   "source": [
    "### Calculating with Python from Supercollider via OSC\n",
    "\n",
    "We have now seen the communication from `Python -> SuperCollider` and `SuperCollider -> Python` so now we want to build an example where both languages can communicate with each other, so `SuperCollider <-> Python`."
   ]
  },
  {
   "cell_type": "markdown",
   "id": "83efb9d9-849a-48c3-8e95-412711e4e874",
   "metadata": {},
   "source": [
    "## JSON\n",
    "\n",
    "There are a variety of formats to exchange and store information.\n",
    "One of the most commonly used is JSON which found wide adaption because it mimics the data structure of JavaScript which is the only available programming language in browsers.\n",
    "In SuperCollider and Python the data structure of JSON is closely related to a dictionary, where under a *key* (traditionally a string) a *value* is stored which makes accessing data properties more easy than in an array.\n",
    "OSC on the other hand is more related to a list which lacks the mapping of its items because I need to know what the first, secound, ... value actually represents and I can not change this order without modifying code.\n",
    "\n",
    "Although OSC can also be stored as a file it is used most of the time in a network domain.\n",
    "JSON finds adaption in networking and in file storage and trades human-readability for performance by not relying on a binary encoding for its messages like OSC and instead using human readable string representations for its data, therefore we can take a look at an example JSON.\n",
    "\n",
    "```json\n",
    "{\n",
    "    \"key_a\": \"value\",\n",
    "    \"key_b\": [1, 2, 3],\n",
    "    \"key_c\": {\n",
    "        \"nested_key\": 42.0\n",
    "    }\n",
    "}\n",
    "```\n",
    "\n",
    "Nesting dictionaries and storing arrays are really handy and [are not (well) supported by OSC](https://doc.sccode.org/Guides/OSC_communication.html).\n",
    "Another benefit is that we can store large data in JSON (multiple GBs are not uncommon but also not the best format for such endeavours) which gets difficult when relying on the OSC network protocol UDP.\n",
    "\n",
    "As mentioned before the SuperCollider environment is built around OSC and although we can set up easily an OSC server and client in sclang it is [not possible](https://github.com/supercollider/supercollider/issues/5310) to set up a server or client which responds to something differently than OSC (keep in mind that quarks like [API](https://github.com/supercollider-quarks/API) set up a server in another language and this server will transfer the data back to sclang via OSC).\n",
    "\n",
    "This does not mean that we can not use JSON in SuperCollider but only through exchanging files by using [`parseYAMLFile`](https://doc.sccode.org/Classes/String.html#-parseYAMLFile) (a bit misleading as this YAML is another format like JSON but the YAML parser can parse JSON and YAML - `parseJSON` was added in SC 3.11).\n",
    "\n",
    "```supercollider\n",
    "j = \"example.json\".parseYAMLFile;\n",
    "\n",
    "j[\"key_b\"];\n",
    "-> [ 1, 2, 3 ]\n",
    "```\n",
    "\n",
    "As the benefit of JSON over OSC is that we can transfer nested arrays of arbitrary length we can come up with an example where we make use of this."
   ]
  },
  {
   "cell_type": "markdown",
   "id": "f1777048-45ff-4d0d-ac1e-8967b18ed813",
   "metadata": {},
   "source": [
    "#### Markov chains\n",
    "\n",
    "Before we implement our little example we need to re-visit markov chains.\n",
    "\n",
    "A markov chain $M$ of first order and $n$ states is a *stochastic process* which relies only on the former state $i$ to calculate the probabibilty of the next state $j$.\n",
    "We can write every probability to get from state $i$ to state $j$ for every state $n$ into a $n \\times n$ matrix $P$ which we call a transition matrix.\n",
    "\n",
    "One convention of stochastic processes is that all posibilities must sum up to $1$, therefore the sum of each row of $P$ must sum up to $1$ ($=100\\%$), so\n",
    "\n",
    "$$\n",
    "\\sum_{i=1}^{n} p_{i,j} = p_{1, j}~+~p_{2,j}~+~\\cdots~+~p_{n,j} = 1\n",
    "$$\n",
    "\n",
    "for every row $j \\in {1, \\dots n}$ of our matrix $P$.\n",
    "\n",
    "![markov transition matrix](markov.svg)"
   ]
  },
  {
   "cell_type": "markdown",
   "id": "d6172fc4-1578-4a68-a4c1-7b8dc7023d94",
   "metadata": {},
   "source": [
    "#### Using markov chains with tSNE\n",
    "\n",
    "We can schedule the playback of buffer grains according to a Markov transition matrix $P$ which stores the probabilities to get from grain $i$ to grain $j$.\n",
    "The question is what kind of probabilites we want to have for our matrix $P$ but for this we can use some techniques like *tSNE* for which we need to rely on Python.\n",
    "\n",
    "In Python we can calculate the matrix $A$ of a buffer which stores the audio data as $\\# \\text{channels} \\times \\# \\text{samples}$ and of this matrix $A$ we can calculate the spectogram $S$ of size $\\# \\text{frequency bins} \\times \\# \\text{grains}$.\n",
    "\n",
    "Instead of the usual dimensionality reduction on the time domain we want to reduce the number of frequency bins of $S$ this time because we want to keep the number of grains so they are deterministic and we can schedule them easily.\n",
    "Via a 3-dimensional tSNE we obtain a matrix $T$ of size $\\text{grains} \\times 3$.\n",
    "This matrix $T$ is not a quadratic matrix so we need to think of a way to turn this into a quadratic matrix of form $\\text{grains} \\times \\text{grains}$.\n",
    "For each grain we have a 3 dimensional reduction of its frequency bins which can be considered a 3 dimensional vector which can be considered a point.\n",
    "We can now calculate the distance of the 3 dimensional frequency point to all the other 3 dimensional point representation of each grain.\n",
    "By doing this for each grain we can convert $T$ to a $\\# \\text{grains} \\times \\# \\text{grains}$ matrix $D$ which we can use as a transition matrix $P$ for a markov chain for the scheduling of grains by nomalizing the rows (which we will do in SC).\n",
    "\n",
    "The workflow shown below illustrates the workflow for the communication between SuperCollider and Python.\n",
    "\n",
    "![JSON workflow](json.svg)"
   ]
  },
  {
   "cell_type": "markdown",
   "id": "28a56999-57a0-4d6e-96fc-fc8857b25059",
   "metadata": {},
   "source": [
    "### Python"
   ]
  },
  {
   "cell_type": "code",
   "execution_count": null,
   "id": "41a1e71f-4a0e-4ded-a537-4a214250f4c1",
   "metadata": {},
   "outputs": [],
   "source": [
    "import librosa\n",
    "from sklearn.manifold import TSNE\n",
    "from scipy.spatial import distance_matrix\n",
    "from pythonosc.udp_client import SimpleUDPClient\n",
    "import os\n",
    "import json\n",
    "\n",
    "def calculate_markov(file_path: str, grain_size: int, hop_size: int, sc_port=57120, sc_path=\"/calc_finished\"):\n",
    "    A, sr = librosa.load(file_path, sr=None, mono=True)\n",
    "    S = librosa.feature.melspectrogram(A, sr=sr, win_length=grain_size, hop_length=hop_size, n_fft=grain_size)\n",
    "    tsne = TSNE(n_components=3)\n",
    "    T = tsne.fit_transform(S.T)\n",
    "    D = distance_matrix(T, T)\n",
    "    \n",
    "    # save into json\n",
    "    json_path = f\"{os.path.splitext(file_path)[0]}.json\"\n",
    "    j = {\n",
    "        \"P\": D.tolist(),\n",
    "        \"grainSize\": grain_size,\n",
    "        \"hopSize\": hop_size,\n",
    "        \"audioPath\": os.path.abspath(file_path)\n",
    "    }\n",
    "    with open(json_path, \"w\") as f:\n",
    "        json.dump(j, f)\n",
    "    \n",
    "    # send OSC message\n",
    "    SimpleUDPClient(address='127.0.0.1', port=sc_port).send_message(\n",
    "        sc_path,\n",
    "        os.path.abspath(json_path),\n",
    "    )"
   ]
  },
  {
   "cell_type": "code",
   "execution_count": null,
   "id": "3d4129d4-67de-47bf-b038-5972c00ebdbf",
   "metadata": {},
   "outputs": [
    {
     "name": "stdout",
     "output_type": "stream",
     "text": [
      "Start OSC server on port 57310\n",
      "Received new message for /Applications/SuperCollider.app/Contents/Resources/sounds/a11wlk01.wav\n",
      "Shutdown Python server on port 57310\n"
     ]
    }
   ],
   "source": [
    "from pythonosc.dispatcher import Dispatcher\n",
    "from pythonosc.osc_server import ThreadingOSCUDPServer\n",
    "\n",
    "def start_calc(address, *message):\n",
    "    print(f\"Received new message for {message[0]}\")\n",
    "    calculate_markov(*message)\n",
    "\n",
    "dispatcher = Dispatcher()\n",
    "dispatcher.map(address=\"/start_calc\", handler=start_calc)\n",
    "\n",
    "\n",
    "server = ThreadingOSCUDPServer(\n",
    "    server_address=(\"127.0.0.1\", 57310),\n",
    "    dispatcher=dispatcher\n",
    ")\n",
    "print(f\"Start OSC server on port {server.server_address[-1]}\")\n",
    "\n",
    "try:\n",
    "    server.serve_forever()\n",
    "except KeyboardInterrupt:\n",
    "    print(f\"Shutdown Python server on port {server.server_address[-1]}\")\n",
    "finally:\n",
    "    # we tell the OS that we do not need any longer the port\n",
    "    server.server_close()"
   ]
  },
  {
   "cell_type": "markdown",
   "id": "6c5d073c-9652-49d1-a3eb-86c9676c5fa5",
   "metadata": {},
   "source": [
    "### SuperColllider\n",
    "\n",
    "Once we run the python server we can take a look at the SuperCollider code which is also included in `markovPlayer.scd` in the directory of this notebook.\n",
    "\n",
    "```supercollider\n",
    "// start server\n",
    "s.boot;\n",
    "\n",
    "// verify port\n",
    "NetAddr.langPort\n",
    "\n",
    "(\n",
    "// python server is listening on port 57310\n",
    "b = NetAddr(\"127.0.0.1\", 57310);\n",
    "\n",
    "// our function to send a message to python\n",
    "~startCalc = {|audioPath, grainSize, hopSize|\n",
    "    b.sendMsg(\"/start_calc\", audioPath, grainSize, hopSize);\n",
    "};\n",
    "\n",
    "// will store our shared data\n",
    "q = ();\n",
    "// empty matrix P\n",
    "q[\\P] = [[1]];\n",
    "// default buffer\n",
    "q[\\buffer] = Buffer.read(s, Platform.resourceDir +/+ \"sounds/a11wlk01.wav\");\n",
    "q[\\grainSize] = 44100;\n",
    "q[\\hopSize] = 4000;\n",
    "\n",
    "// our callback function in which we parse the results from python\n",
    "OSCdef(\\calcFinished, {|msg|\n",
    "    var json = msg[1].asString.parseYAMLFile;\n",
    "    q[\\P] = json[\"P\"].asFloat;\n",
    "    q[\\buffer] = Buffer.read(s, json[\"audioPath\"]);\n",
    "    q[\\grainSize] = json[\"grainSize\"].asFloat;\n",
    "    q[\\hopSize] = json[\"hopSize\"].asFloat;\n",
    "    \"Switched out data\".postln;\n",
    "}, \"/calc_finished\");\n",
    "\n",
    "// a synthdef which can play a section of a buffer\n",
    "SynthDef(\\bplaySection, {|out|\n",
    "    var bufNum = \\bufnum.kr(0);\n",
    "    var start = \\start.kr(0);\n",
    "    var env = EnvGen.kr(Env.linen(\n",
    "        attackTime: \\attack.kr(0.001),\n",
    "        sustainTime: (\\end.kr(1000)-start)/BufSampleRate.kr(bufNum),\n",
    "        releaseTime: \\release.kr(0.001),\n",
    "    ), doneAction: Done.freeSelf);\n",
    "    var sig = PlayBuf.ar(\n",
    "        numChannels: 2,\n",
    "        bufnum: bufNum,\n",
    "        rate: BufRateScale.kr(bufNum) * \\rate.kr(1.0),\n",
    "        startPos: start,\n",
    "    );\n",
    "    sig = sig*env*\\amp.kr(0.5);\n",
    "    Out.ar(out, sig);\n",
    "}).add;\n",
    "\n",
    "// a tdef which will playback the buffer according to our markov transition matrix P\n",
    "Tdef(\\playMarkov, {\n",
    "    var curState=0;\n",
    "    loop {\n",
    "        // calculate next state which aka the next grain\n",
    "        curState = (0..q[\\P].shape[0]).wchoose(q[\\P][curState].normalizeSum);\n",
    "        // playback\n",
    "        Synth(\\bplaySection, [\n",
    "            \\bufnum, q[\\buffer].bufnum,\n",
    "            \\start, curState*q[\\hopSize],\n",
    "             \\end, curState*q[\\hopSize] + q[\\grainSize],\n",
    "            \\amp, 0.5,\n",
    "            \\attack, 0.1,\n",
    "        ]);\n",
    "        // by reducing the factor of our wait time\n",
    "        // the played back samples will overlap more\n",
    "        ((q[\\grainSize]/s.sampleRate)*0.5).wait;\n",
    "    };\n",
    "}).play;\n",
    ")\n",
    "\n",
    "// now we can change parameters from within supercollider\n",
    "(\n",
    "~startCalc.(\n",
    "    // use absolute paths\n",
    "    // the examlp is mono and we build for stereo so we will get some problems\n",
    "    audioPath: Platform.resourceDir +/+ \"sounds/a11wlk01.wav\",\n",
    "    grainSize: 10000,\n",
    "    // pay attention when reducing hop size\n",
    "    // as the calculated data grows exponentially\n",
    "    // because we obtain more grains and for each\n",
    "    // grain we calulate the distance to all other\n",
    "    // grains\n",
    "    hopSize: 1000,\n",
    ")\n",
    ")\n",
    "```"
   ]
  }
 ],
 "metadata": {
  "kernelspec": {
   "display_name": "Python 3",
   "language": "python",
   "name": "python3"
  },
  "language_info": {
   "codemirror_mode": {
    "name": "ipython",
    "version": 3
   },
   "file_extension": ".py",
   "mimetype": "text/x-python",
   "name": "python",
   "nbconvert_exporter": "python",
   "pygments_lexer": "ipython3"
  }
 },
 "nbformat": 4,
 "nbformat_minor": 5
}
