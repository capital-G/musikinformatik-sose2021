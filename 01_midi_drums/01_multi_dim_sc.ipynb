{
 "cells": [
  {
   "cell_type": "markdown",
   "id": "whole-federal",
   "metadata": {},
   "source": [
    "# Multi dimonsionality in SuperCollider"
   ]
  },
  {
   "cell_type": "code",
   "execution_count": 1,
   "id": "fifty-startup",
   "metadata": {},
   "outputs": [
    {
     "name": "stdout",
     "output_type": "stream",
     "text": [
      "-> 4"
     ]
    }
   ],
   "source": [
    "2+2"
   ]
  },
  {
   "cell_type": "code",
   "execution_count": null,
   "id": "supposed-immune",
   "metadata": {},
   "outputs": [],
   "source": []
  }
 ],
 "metadata": {
  "kernelspec": {
   "display_name": "SuperCollider",
   "language": "",
   "name": "sc_kernel"
  },
  "language_info": {
   "file_extension": ".scd",
   "mimetype": "text/x-sclang",
   "name": "smalltalk",
   "pygments_lexer": "supercollider"
  }
 },
 "nbformat": 4,
 "nbformat_minor": 5
}
